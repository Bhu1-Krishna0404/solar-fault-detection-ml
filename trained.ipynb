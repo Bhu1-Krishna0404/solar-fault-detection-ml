{
 "cells": [
  {
   "cell_type": "code",
   "execution_count": 1,
   "id": "3998a06a",
   "metadata": {},
   "outputs": [],
   "source": [
    "import pandas as pd\n",
    "from sklearn.model_selection import train_test_split\n",
    "from sklearn.ensemble import RandomForestClassifier\n",
    "from sklearn.multioutput import MultiOutputClassifier\n",
    "from sklearn.metrics import accuracy_score\n",
    "import joblib\n"
   ]
  },
  {
   "cell_type": "code",
   "execution_count": 2,
   "id": "cdf6e56a",
   "metadata": {},
   "outputs": [],
   "source": [
    "df = pd.read_csv(\"LL1.csv\") "
   ]
  },
  {
   "cell_type": "code",
   "execution_count": 3,
   "id": "22975619",
   "metadata": {},
   "outputs": [],
   "source": [
    "X = df[['V', 'I', 'G', 'P']]\n",
    "y = df[['no_module_fault', 'fault', 'partial_shading']]\n"
   ]
  },
  {
   "cell_type": "code",
   "execution_count": 4,
   "id": "5de9077d",
   "metadata": {},
   "outputs": [],
   "source": [
    "X_train, X_test, y_train, y_test = train_test_split(X, y, test_size=0.2, random_state=42)"
   ]
  },
  {
   "cell_type": "code",
   "execution_count": 5,
   "id": "78667367",
   "metadata": {},
   "outputs": [
    {
     "data": {
      "text/plain": [
       "MultiOutputClassifier(estimator=RandomForestClassifier(random_state=42))"
      ]
     },
     "execution_count": 5,
     "metadata": {},
     "output_type": "execute_result"
    }
   ],
   "source": [
    "model = MultiOutputClassifier(RandomForestClassifier(random_state=42))\n",
    "model.fit(X_train, y_train)"
   ]
  },
  {
   "cell_type": "code",
   "execution_count": 8,
   "id": "f3dac9f9",
   "metadata": {},
   "outputs": [],
   "source": [
    "y_pred = model.predict(X_test)"
   ]
  },
  {
   "cell_type": "code",
   "execution_count": 9,
   "id": "dba56d2d",
   "metadata": {},
   "outputs": [],
   "source": [
    "accuracy_per_label = {}\n",
    "for i, label in enumerate(y.columns):\n",
    "    acc = accuracy_score(y_test[label], y_pred[:, i])\n",
    "    accuracy_per_label[label] = round(acc * 100, 2)"
   ]
  },
  {
   "cell_type": "code",
   "execution_count": 10,
   "id": "78310433",
   "metadata": {},
   "outputs": [
    {
     "name": "stdout",
     "output_type": "stream",
     "text": [
      "📊 Accuracy for each label:\n",
      "{'no_module_fault': 100.0, 'fault': 100.0, 'partial_shading': 100.0}\n"
     ]
    }
   ],
   "source": [
    "print(\"📊 Accuracy for each label:\")\n",
    "print(accuracy_per_label)"
   ]
  },
  {
   "cell_type": "code",
   "execution_count": 11,
   "id": "f507982f",
   "metadata": {},
   "outputs": [
    {
     "data": {
      "text/plain": [
       "['pv_fault_model.pkl']"
      ]
     },
     "execution_count": 11,
     "metadata": {},
     "output_type": "execute_result"
    }
   ],
   "source": [
    "joblib.dump(model, \"pv_fault_model.pkl\")"
   ]
  },
  {
   "cell_type": "code",
   "execution_count": 13,
   "id": "a9d075fe",
   "metadata": {},
   "outputs": [
    {
     "name": "stdout",
     "output_type": "stream",
     "text": [
      "\n",
      "Accuracy Report using Random Forest Classifier:\n",
      "----------------------------------------------------\n",
      "Accuracy for no_module_fault: 100.0%\n",
      "Accuracy for fault: 100.0%\n",
      "Accuracy for partial_shading: 100.0%\n",
      "----------------------------------------------------\n",
      "Overall Subset Accuracy: 100.0%\n"
     ]
    }
   ],
   "source": [
    "from sklearn.metrics import accuracy_score\n",
    "\n",
    "\n",
    "accuracy_per_label = {}\n",
    "for i, label in enumerate(y.columns):\n",
    "    acc = accuracy_score(y_test[label], y_pred[:, i])\n",
    "    accuracy_per_label[label] = round(acc * 100, 2)\n",
    "\n",
    "\n",
    "overall_accuracy = round(accuracy_score(y_test, y_pred) * 100, 2)\n",
    "\n",
    "print(\"\\nAccuracy Report using Random Forest Classifier:\")\n",
    "print(\"----------------------------------------------------\")\n",
    "for label, acc in accuracy_per_label.items():\n",
    "    print(f\"Accuracy for {label}: {acc}%\")\n",
    "print(\"----------------------------------------------------\")\n",
    "print(f\"Overall Subset Accuracy: {overall_accuracy}%\")\n"
   ]
  },
  {
   "cell_type": "code",
   "execution_count": null,
   "id": "51d1dd46",
   "metadata": {},
   "outputs": [],
   "source": []
  }
 ],
 "metadata": {
  "kernelspec": {
   "display_name": "Python 3 (ipykernel)",
   "language": "python",
   "name": "python3"
  },
  "language_info": {
   "codemirror_mode": {
    "name": "ipython",
    "version": 3
   },
   "file_extension": ".py",
   "mimetype": "text/x-python",
   "name": "python",
   "nbconvert_exporter": "python",
   "pygments_lexer": "ipython3",
   "version": "3.9.12"
  }
 },
 "nbformat": 4,
 "nbformat_minor": 5
}
